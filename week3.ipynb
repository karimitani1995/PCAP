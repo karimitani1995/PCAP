{
 "metadata": {
  "language_info": {
   "codemirror_mode": {
    "name": "ipython",
    "version": 3
   },
   "file_extension": ".py",
   "mimetype": "text/x-python",
   "name": "python",
   "nbconvert_exporter": "python",
   "pygments_lexer": "ipython3",
   "version": "3.8.5-final"
  },
  "orig_nbformat": 2,
  "kernelspec": {
   "name": "python385jvsc74a57bd0dca0ade3e726a953b501b15e8e990130d2b7799f14cfd9f4271676035ebe5511",
   "display_name": "Python 3.8.5 64-bit ('base': conda)"
  }
 },
 "nbformat": 4,
 "nbformat_minor": 2,
 "cells": [
  {
   "source": [
    "# 2.1.1.3 \n",
    "\n",
    "### 2- Unicode doesn't decide on how characters are stored. It only lists all available characters. The most general Unicode standard is UCS-4 (32 bit standard). It is a 'wasteful' standard that increase the size of files by a lot\n",
    "\n",
    "### 3- UTF-8 is a more efficient alternative to UCS-4 (Unicode Transfornmation Format).  It only uses as many bit as necessary to represent a character (space character in UTF only uses 8 bits as compared to 32 in UCS-4)\n",
    "\n",
    "### 4- Python can use both Unicode and UTF"
   ],
   "cell_type": "markdown",
   "metadata": {}
  },
  {
   "source": [
    "# 2.1.1.4 Section Summary\n",
    "\n",
    "### 1. Computers store characters as numbers. There is more than one possible way of encoding characters, but only some of them gained worldwide popularity and are commonly used in IT: these are ASCII (used mainly to encode the Latin alphabet and some of its derivates) and UNICODE (able to encode virtually all alphabets being used by humans).\n",
    "\n",
    "\n",
    "### 2. A number corresponding to a particular character is called a codepoint.\n",
    "\n",
    "\n",
    "### 3. UNICODE uses different ways of encoding when it comes to storing the characters using files or computer memory: two of them are UCS-4 and UTF-8 (the latter is the most common as it wastes less memory space)."
   ],
   "cell_type": "markdown",
   "metadata": {}
  },
  {
   "source": [
    "# 2.2.1.1 The nature of strings in Python\n",
    "\n",
    "### 1. Strings are imuttable sequences\n",
    "\n",
    "### 2. Empty strings have a length of zero\n",
    "\n",
    "### 3. Escape characters dont count towards the length of strings (\\)"
   ],
   "cell_type": "markdown",
   "metadata": {}
  },
  {
   "cell_type": "code",
   "execution_count": 2,
   "metadata": {},
   "outputs": [
    {
     "output_type": "stream",
     "name": "stdout",
     "text": [
      "2\n0\n3\n"
     ]
    }
   ],
   "source": [
    "# Example 1\n",
    "word = 'by'\n",
    "print(len(word))\n",
    "\n",
    "# Example 2\n",
    "empty = ''\n",
    "print(len(empty))\n",
    "\n",
    "# Example 3\n",
    "i_am = 'I\\'m'\n",
    "print(len(i_am))"
   ]
  },
  {
   "source": [
    "# 2.2.1.2 The nature of strings in Pythonn\n",
    "\n",
    "### 1. Multiline string are created using triple quotes:\n",
    "### \"\"\"beggining\n",
    "### end\"\"\"\n"
   ],
   "cell_type": "markdown",
   "metadata": {}
  },
  {
   "cell_type": "code",
   "execution_count": 5,
   "metadata": {},
   "outputs": [
    {
     "output_type": "stream",
     "name": "stdout",
     "text": [
      "beggining\nend\n"
     ]
    }
   ],
   "source": [
    "string =\"\"\"beggining\n",
    "end\"\"\"\n",
    "print(string)"
   ]
  },
  {
   "source": [
    "# 2.2.1.3 The nature of strings in Python\n",
    "\n",
    "1. Strings can be concatenated (+) and replicated (*)\n",
    "2. The adition is not commutative (order matter)"
   ],
   "cell_type": "markdown",
   "metadata": {}
  },
  {
   "cell_type": "code",
   "execution_count": 16,
   "metadata": {},
   "outputs": [
    {
     "output_type": "stream",
     "name": "stdout",
     "text": [
      "a b ab ba aaaaaaaaaa\n"
     ]
    }
   ],
   "source": [
    "a='a'\n",
    "b='b'\n",
    "c=a+b\n",
    "d=b+a\n",
    "e=a*10\n",
    "print(a,b,c,d,e)"
   ]
  },
  {
   "source": [
    "# 2.2.1.4 The nature of strings in Python\n",
    "\n",
    "### 1. the ord() function return the ordinal value of any ASCII/UNICODE string. It take a one character argumernt"
   ],
   "cell_type": "markdown",
   "metadata": {}
  },
  {
   "cell_type": "code",
   "execution_count": 20,
   "metadata": {},
   "outputs": [
    {
     "output_type": "stream",
     "name": "stdout",
     "text": [
      "32\n99\n"
     ]
    },
    {
     "output_type": "error",
     "ename": "TypeError",
     "evalue": "ord() expected a character, but string of length 2 found",
     "traceback": [
      "\u001b[0;31m---------------------------------------------------------------------------\u001b[0m",
      "\u001b[0;31mTypeError\u001b[0m                                 Traceback (most recent call last)",
      "\u001b[0;32m<ipython-input-20-2c73d1d0b73f>\u001b[0m in \u001b[0;36m<module>\u001b[0;34m()\u001b[0m\n\u001b[1;32m      1\u001b[0m \u001b[0mprint\u001b[0m\u001b[0;34m(\u001b[0m\u001b[0mord\u001b[0m\u001b[0;34m(\u001b[0m\u001b[0;34m' '\u001b[0m\u001b[0;34m)\u001b[0m\u001b[0;34m)\u001b[0m\u001b[0;34m\u001b[0m\u001b[0m\n\u001b[1;32m      2\u001b[0m \u001b[0mprint\u001b[0m\u001b[0;34m(\u001b[0m\u001b[0mord\u001b[0m\u001b[0;34m(\u001b[0m\u001b[0;34m'c'\u001b[0m\u001b[0;34m)\u001b[0m\u001b[0;34m)\u001b[0m\u001b[0;34m\u001b[0m\u001b[0m\n\u001b[0;32m----> 3\u001b[0;31m \u001b[0mprint\u001b[0m\u001b[0;34m(\u001b[0m\u001b[0mord\u001b[0m\u001b[0;34m(\u001b[0m\u001b[0;34m'ca'\u001b[0m\u001b[0;34m)\u001b[0m\u001b[0;34m)\u001b[0m\u001b[0;34m\u001b[0m\u001b[0m\n\u001b[0m",
      "\u001b[0;31mTypeError\u001b[0m: ord() expected a character, but string of length 2 found"
     ]
    }
   ],
   "source": [
    "print(ord(' '))\n",
    "print(ord('c'))\n",
    "print(ord('ca'))\n"
   ]
  },
  {
   "source": [
    "# 2.2.1.5 The nature of strings in Python\n",
    "\n",
    "###1. The chr() function gives the character of a given ASCII/UNICODE code point. Its the inverse of ord(). It takes a single integer argument\n"
   ],
   "cell_type": "markdown",
   "metadata": {}
  },
  {
   "cell_type": "code",
   "execution_count": 29,
   "metadata": {},
   "outputs": [
    {
     "output_type": "stream",
     "name": "stdout",
     "text": [
      " \nc\n"
     ]
    },
    {
     "output_type": "error",
     "ename": "TypeError",
     "evalue": "chr() takes exactly one argument (2 given)",
     "traceback": [
      "\u001b[0;31m---------------------------------------------------------------------------\u001b[0m",
      "\u001b[0;31mTypeError\u001b[0m                                 Traceback (most recent call last)",
      "\u001b[0;32m<ipython-input-29-b357082e919d>\u001b[0m in \u001b[0;36m<module>\u001b[0;34m()\u001b[0m\n\u001b[1;32m      1\u001b[0m \u001b[0mprint\u001b[0m\u001b[0;34m(\u001b[0m\u001b[0mchr\u001b[0m\u001b[0;34m(\u001b[0m\u001b[0;36m32\u001b[0m\u001b[0;34m)\u001b[0m\u001b[0;34m)\u001b[0m\u001b[0;34m\u001b[0m\u001b[0m\n\u001b[1;32m      2\u001b[0m \u001b[0mprint\u001b[0m\u001b[0;34m(\u001b[0m\u001b[0mchr\u001b[0m\u001b[0;34m(\u001b[0m\u001b[0;36m99\u001b[0m\u001b[0;34m)\u001b[0m\u001b[0;34m)\u001b[0m\u001b[0;34m\u001b[0m\u001b[0m\n\u001b[0;32m----> 3\u001b[0;31m \u001b[0mprint\u001b[0m\u001b[0;34m(\u001b[0m\u001b[0mchr\u001b[0m\u001b[0;34m(\u001b[0m\u001b[0;36m99\u001b[0m\u001b[0;34m,\u001b[0m\u001b[0;36m100\u001b[0m\u001b[0;34m)\u001b[0m\u001b[0;34m)\u001b[0m\u001b[0;34m\u001b[0m\u001b[0m\n\u001b[0m",
      "\u001b[0;31mTypeError\u001b[0m: chr() takes exactly one argument (2 given)"
     ]
    }
   ],
   "source": [
    "print(chr(32))\n",
    "print(chr(99))\n",
    "print(chr(99,100))"
   ]
  },
  {
   "source": [
    "# 2.2.1.6 The nature of strings in Python\n",
    "\n",
    "### 1. Strings are treated as sequences in Python. Indexing and iterating are possible "
   ],
   "cell_type": "markdown",
   "metadata": {}
  },
  {
   "cell_type": "code",
   "execution_count": 31,
   "metadata": {},
   "outputs": [
    {
     "output_type": "stream",
     "name": "stdout",
     "text": [
      "s i l l y   w a l k s \ns i l l y   w a l k s \n"
     ]
    }
   ],
   "source": [
    "#Indexing strings.\n",
    "\n",
    "the_string = 'silly walks'\n",
    "\n",
    "for ix in range(len(the_string)):\n",
    "    print(the_string[ix], end=' ')\n",
    "\n",
    "print()\n",
    "\n",
    "# Iterating through a string.\n",
    "\n",
    "the_string = 'silly walks'\n",
    "\n",
    "for character in the_string:\n",
    "    print(character, end=' ')\n",
    "\n",
    "print()\n"
   ]
  },
  {
   "source": [
    "# 2.2.1.7 The nature of strings in Python\n",
    "\n",
    "### 1. Slicing strings is also possible"
   ],
   "cell_type": "markdown",
   "metadata": {}
  },
  {
   "cell_type": "code",
   "execution_count": 32,
   "metadata": {},
   "outputs": [
    {
     "output_type": "stream",
     "name": "stdout",
     "text": [
      "bd\nefg\nabd\n"
     ]
    }
   ],
   "source": [
    "# Slices\n",
    "\n",
    "alpha = \"abdefg\"\n",
    "\n",
    "print(alpha[1:3])\n",
    "print(alpha[3:])\n",
    "print(alpha[:3])"
   ]
  },
  {
   "source": [
    "# 2.2.1.8 The nature of strings in Python\n",
    "\n",
    "### 1. the in/not in operators check the presenc/abscence of characters in strings\n",
    "### 2. the in/not in operators are case sensitive"
   ],
   "cell_type": "markdown",
   "metadata": {}
  },
  {
   "cell_type": "code",
   "execution_count": 34,
   "metadata": {},
   "outputs": [
    {
     "output_type": "stream",
     "name": "stdout",
     "text": [
      "True\nFalse\nFalse\nTrue\nTrue\n"
     ]
    }
   ],
   "source": [
    "alphabet = \"abcdefghijklmnopqrstuvwxyz\"\n",
    "\n",
    "print(\"f\" in alphabet)\n",
    "print(\"F\" in alphabet)\n",
    "print(\"1\" in alphabet)\n",
    "print(\"ghi\" in alphabet)\n",
    "print(\"Xyz\" in alphabet)"
   ]
  },
  {
   "source": [
    "# 2.2.1.9 The nature of strings in Python\n",
    "\n",
    "### 1. Strings are immutable. You cant delete/append/insert"
   ],
   "cell_type": "markdown",
   "metadata": {}
  },
  {
   "source": [
    "# 2.2.1.10 The nature of strings in Python\n",
    "\n",
    "### 1. The only way to modify a string is to create a new copy, you can use slicing/contenation to create a new string using an old one.\n"
   ],
   "cell_type": "markdown",
   "metadata": {}
  },
  {
   "cell_type": "code",
   "execution_count": 35,
   "metadata": {},
   "outputs": [
    {
     "output_type": "stream",
     "name": "stdout",
     "text": [
      "abc def abcdef c\n"
     ]
    }
   ],
   "source": [
    "first='abc'\n",
    "second='def'\n",
    "third=first+second\n",
    "fourth=first[-1]\n",
    "print(first,second,third,fourth)"
   ]
  },
  {
   "source": [
    "# 2.2.1.11\n",
    "### 1. the min() function returns the character of a string with the minimal ordinal value"
   ],
   "cell_type": "markdown",
   "metadata": {}
  },
  {
   "cell_type": "code",
   "execution_count": 38,
   "metadata": {},
   "outputs": [
    {
     "output_type": "stream",
     "name": "stdout",
     "text": [
      "65\n97\nA\n"
     ]
    }
   ],
   "source": [
    "print(ord(\"A\"))\n",
    "print(ord(\"a\"))\n",
    "print(min(\"aA\"))"
   ]
  },
  {
   "source": [
    "# 2.2.1.12\n",
    "\n",
    "### 1. The max() is the inverse of the min() function "
   ],
   "cell_type": "markdown",
   "metadata": {}
  },
  {
   "cell_type": "code",
   "execution_count": 39,
   "metadata": {},
   "outputs": [
    {
     "output_type": "stream",
     "name": "stdout",
     "text": [
      "65\n97\na\n"
     ]
    }
   ],
   "source": [
    "print(ord(\"A\"))\n",
    "print(ord(\"a\"))\n",
    "print(max(\"aA\"))"
   ]
  },
  {
   "source": [
    "# 2.2.1.13\n",
    "\n",
    "### 1. The index method return the index in a string of the first character that meets the criteria"
   ],
   "cell_type": "markdown",
   "metadata": {}
  },
  {
   "cell_type": "code",
   "execution_count": 40,
   "metadata": {},
   "outputs": [
    {
     "output_type": "stream",
     "name": "stdout",
     "text": [
      "1\n"
     ]
    }
   ],
   "source": [
    "print(\"aAbByYzZaA\".index(\"A\"))"
   ]
  },
  {
   "source": [
    "# 2.2.1.14\n",
    "\n",
    "### 1. The list function returns a string in the form of a list\n",
    "\n",
    "### 2. The count method count the number of a times a character occures in a string"
   ],
   "cell_type": "markdown",
   "metadata": {}
  },
  {
   "cell_type": "code",
   "execution_count": 45,
   "metadata": {},
   "outputs": [
    {
     "output_type": "stream",
     "name": "stdout",
     "text": [
      "['q', 'w', 'e', 'r', 't', 'y']\n20\n"
     ]
    }
   ],
   "source": [
    "print(list('qwerty'))\n",
    "print('aaaaaaaaaaaaaaaaaaaa'.count('a'))"
   ]
  },
  {
   "source": [
    "# 2.3.1.1\n",
    "\n",
    "### 1. The capitalise method will capitalise the first character only"
   ],
   "cell_type": "markdown",
   "metadata": {}
  },
  {
   "cell_type": "code",
   "execution_count": 47,
   "metadata": {},
   "outputs": [
    {
     "output_type": "stream",
     "name": "stdout",
     "text": [
      "Abcd\n"
     ]
    }
   ],
   "source": [
    "print('aBcD'.capitalize())"
   ]
  },
  {
   "source": [
    "# 2.3.1.2\n",
    "\n",
    "### the .center() method makes a copy of the original string, trying to center it inside a field of a specified width"
   ],
   "cell_type": "markdown",
   "metadata": {}
  },
  {
   "cell_type": "code",
   "execution_count": 48,
   "metadata": {},
   "outputs": [
    {
     "output_type": "stream",
     "name": "stdout",
     "text": [
      "[Beta]\n[Beta]\n[ Beta ]\n"
     ]
    }
   ],
   "source": [
    "print('[' + 'Beta'.center(2) + ']')\n",
    "print('[' + 'Beta'.center(4) + ']')\n",
    "print('[' + 'Beta'.center(6) + ']')"
   ]
  },
  {
   "source": [
    "# 2.3.1.3\n",
    "\n",
    "### The endswith() method checks if the given string ends with the specified argument and returns True or False, depending on the check result."
   ],
   "cell_type": "markdown",
   "metadata": {}
  },
  {
   "cell_type": "code",
   "execution_count": 49,
   "metadata": {},
   "outputs": [
    {
     "output_type": "stream",
     "name": "stdout",
     "text": [
      "True\nFalse\nFalse\nTrue\n"
     ]
    }
   ],
   "source": [
    "t = \"zeta\"\n",
    "print(t.endswith(\"a\"))\n",
    "print(t.endswith(\"A\"))\n",
    "print(t.endswith(\"et\"))\n",
    "print(t.endswith(\"eta\"))"
   ]
  },
  {
   "source": [
    "# 2.3.1.4 \n",
    "\n",
    "### 1 -The find() method is similar to index(), it looks for a substring and returns the index of first occurrence of this substring, but doesn't return an error if the substring is not present\n",
    "### 2- A two argument variant allows you to start the search at a given index\n"
   ],
   "cell_type": "markdown",
   "metadata": {}
  },
  {
   "cell_type": "code",
   "execution_count": 52,
   "metadata": {},
   "outputs": [
    {
     "output_type": "stream",
     "name": "stdout",
     "text": [
      "1\n-1\n4\n"
     ]
    }
   ],
   "source": [
    "print(\"Eta\".find(\"ta\"))\n",
    "print(\"Eta\".find(\"mma\"))\n",
    "print('kappa'.find('a', 2))"
   ]
  },
  {
   "source": [
    "# 2.3.1.5\n",
    "\n",
    "### 1- isalnum() checks if the string contains only digits or alphabetical characters (letters), and returns True or False"
   ],
   "cell_type": "markdown",
   "metadata": {}
  },
  {
   "cell_type": "code",
   "execution_count": 55,
   "metadata": {},
   "outputs": [
    {
     "output_type": "stream",
     "name": "stdout",
     "text": [
      "True\nTrue\nTrue\nFalse\nFalse\nFalse\n"
     ]
    }
   ],
   "source": [
    "print('lambda30'.isalnum())\n",
    "print('lambda'.isalnum())\n",
    "print('30'.isalnum())\n",
    "print('@'.isalnum())\n",
    "print('lambda_30'.isalnum())\n",
    "print(''.isalnum())"
   ]
  },
  {
   "source": [
    "# 2.3.1.6\n",
    "\n",
    "### 1- islpha() only checks for letters\n",
    "### 2- isdigit() only checks for digits"
   ],
   "cell_type": "markdown",
   "metadata": {}
  },
  {
   "cell_type": "code",
   "execution_count": 57,
   "metadata": {},
   "outputs": [
    {
     "output_type": "stream",
     "name": "stdout",
     "text": [
      "True\nFalse\nTrue\nFalse\n"
     ]
    }
   ],
   "source": [
    "# Example 1: Demonstrating the isapha() method:\n",
    "print(\"Moooo\".isalpha())\n",
    "print('Mu40'.isalpha())\n",
    "\n",
    "# Example 2: Demonstrating the isdigit() method:\n",
    "print('2018'.isdigit())\n",
    "print(\"Year2019\".isdigit())"
   ]
  },
  {
   "source": [
    "# 2.3.1.7\n",
    "\n",
    "### 1- islower() checks if all characters are letters and are lowercase \n",
    "### 2- isspace() checks if string is only a space\n",
    "### 3- isupper() check if all characters are uppercase letters"
   ],
   "cell_type": "markdown",
   "metadata": {}
  },
  {
   "cell_type": "code",
   "execution_count": 60,
   "metadata": {},
   "outputs": [
    {
     "output_type": "stream",
     "name": "stdout",
     "text": [
      "False\nTrue\nTrue\nTrue\nFalse\nFalse\nFalse\nTrue\n"
     ]
    }
   ],
   "source": [
    "# Example 1: Demonstrating the islower() method:\n",
    "print(\"Moooo\".islower())\n",
    "print('moooo'.islower())\n",
    "\n",
    "# Example 2: Demonstrating the isspace() method:\n",
    "print(' \\n '.isspace())\n",
    "print(\" \".isspace())\n",
    "print(\"mooo mooo mooo\".isspace())\n",
    "\n",
    "# Example 3: Demonstrating the isupper() method:\n",
    "print(\"Moooo\".isupper())\n",
    "print('moooo'.isupper())\n",
    "print('MOOOO'.isupper())\n"
   ]
  },
  {
   "source": [
    "# 2.3.1.8\n",
    "\n",
    "### 1- The .join method take a list of strings and concatenates them with an optional separator allowed."
   ],
   "cell_type": "markdown",
   "metadata": {}
  },
  {
   "cell_type": "code",
   "execution_count": 61,
   "metadata": {},
   "outputs": [
    {
     "output_type": "stream",
     "name": "stdout",
     "text": [
      "omicron,pi,rho\n"
     ]
    }
   ],
   "source": [
    "print(\",\".join([\"omicron\", \"pi\", \"rho\"]))"
   ]
  },
  {
   "source": [
    "# 2.3.1.9\n",
    "\n",
    "### 1- The lower() method makes a copy of a source string, replaces all upper-case letters with their lower-case counterparts\n"
   ],
   "cell_type": "markdown",
   "metadata": {}
  },
  {
   "cell_type": "code",
   "execution_count": 63,
   "metadata": {},
   "outputs": [
    {
     "output_type": "stream",
     "name": "stdout",
     "text": [
      "sigma=60\n"
     ]
    }
   ],
   "source": [
    "print(\"SiGmA=60\".lower())"
   ]
  },
  {
   "source": [
    "# 2.3.1.10\n",
    "\n",
    "### 1- The parameterless lstrip() method returns a newly created string formed from the original one by removing all leading whitespaces\n",
    "\n",
    "### 2- The one-parameter lstrip() method does the same as its parameterless version, but removes all characters enlisted in its argument (a string), not just whitespaces"
   ],
   "cell_type": "markdown",
   "metadata": {}
  },
  {
   "cell_type": "code",
   "execution_count": 65,
   "metadata": {},
   "outputs": [
    {
     "output_type": "stream",
     "name": "stdout",
     "text": [
      "[tau ]\ncisco.com\n"
     ]
    }
   ],
   "source": [
    "print(\"[\" + \" tau \".lstrip() + \"]\")\n",
    "print(\"www.cisco.com\".lstrip(\"w.\"))"
   ]
  },
  {
   "source": [
    "# 2.3.1.11\n",
    "\n",
    "### 1- The two-parameter replace() method returns a copy of the original string in which all occurrences of the first argument have been replaced by the second argument."
   ],
   "cell_type": "markdown",
   "metadata": {}
  },
  {
   "cell_type": "code",
   "execution_count": 67,
   "metadata": {},
   "outputs": [
    {
     "output_type": "stream",
     "name": "stdout",
     "text": [
      "www.pythoninstitute.org\nThare are it!\nApple \n"
     ]
    }
   ],
   "source": [
    "print(\"www.netacad.com\".replace(\"netacad.com\", \"pythoninstitute.org\"))\n",
    "print(\"This is it!\".replace(\"is\", \"are\"))\n",
    "print(\"Apple juice\".replace(\"juice\", \"\"))"
   ]
  },
  {
   "source": [
    "# 2.3.1.12\n",
    "\n",
    "### 1- The rfind() method is like find() but start their searches from the end of the string"
   ],
   "cell_type": "markdown",
   "metadata": {}
  },
  {
   "cell_type": "code",
   "execution_count": 69,
   "metadata": {},
   "outputs": [
    {
     "output_type": "stream",
     "name": "stdout",
     "text": [
      "8\n"
     ]
    }
   ],
   "source": [
    "print(\"tau tau tau\".rfind(\"ta\"))"
   ]
  },
  {
   "source": [
    "# 2.3.1.13\n",
    "\n",
    "### 1- Does the same as lstrip() but from the end of the string\n",
    "\n",
    "### 2- Strips all matching SUBSTRING as well (second example, cisco.com --> cis)"
   ],
   "cell_type": "markdown",
   "metadata": {}
  },
  {
   "cell_type": "code",
   "execution_count": 70,
   "metadata": {},
   "outputs": [
    {
     "output_type": "stream",
     "name": "stdout",
     "text": [
      "[ upsilon]\ncis\n"
     ]
    }
   ],
   "source": [
    "print(\"[\" + \" upsilon \".rstrip() + \"]\")\n",
    "print(\"cisco.com\".rstrip(\".com\"))"
   ]
  },
  {
   "source": [
    "# 2.3.1.14\n",
    "\n",
    "### 1- the .split() method take a string and splits it into a list of stringss, "
   ],
   "cell_type": "markdown",
   "metadata": {}
  },
  {
   "cell_type": "code",
   "execution_count": 71,
   "metadata": {},
   "outputs": [
    {
     "output_type": "stream",
     "name": "stdout",
     "text": [
      "['phi', 'chi', 'psi']\n['phi', 'chi', 'psi']\n"
     ]
    }
   ],
   "source": [
    "print(\"phi       chi\\npsi\".split())\n",
    "print(\"phi-chi-psi\".split('-'))"
   ]
  },
  {
   "source": [
    "# 2.3.1.15\n",
    "\n",
    "### 1- startswith() is the reverse of endswith()\n",
    "\n",
    "### 2- strip() combines lstrip() and rstrip()"
   ],
   "cell_type": "markdown",
   "metadata": {}
  },
  {
   "cell_type": "code",
   "execution_count": 74,
   "metadata": {},
   "outputs": [
    {
     "output_type": "stream",
     "name": "stdout",
     "text": [
      "False\nTrue\n[aleph]\n"
     ]
    }
   ],
   "source": [
    "# Demonstrating the startswith() method:\n",
    "print(\"omega\".startswith(\"meg\"))\n",
    "print(\"omega\".startswith(\"om\"))\n",
    "\n",
    "# Demonstrating the strip() method:\n",
    "print(\"[\" + \"   aleph   \".strip() + \"]\")"
   ]
  },
  {
   "source": [
    "# 2.3.1.16\n",
    "\n",
    "### 1- swapcase(), swapes cases\n",
    "\n",
    "### 2- title(), puts all leasding characters in each word in uppercase\n",
    "\n",
    "### 3- upper(), all characters get converted to uppercase"
   ],
   "cell_type": "markdown",
   "metadata": {}
  },
  {
   "cell_type": "code",
   "execution_count": 76,
   "metadata": {},
   "outputs": [
    {
     "output_type": "stream",
     "name": "stdout",
     "text": [
      "i KNOW THAT i KNOW NOTHING.\n\nI Know That I Know Nothing. Part 1.\n\nI KNOW THAT I KNOW NOTHING. PART 2.\n"
     ]
    }
   ],
   "source": [
    "# Demonstrating the swapcase() method:\n",
    "print(\"I know that I know nothing.\".swapcase())\n",
    "\n",
    "print()\n",
    "\n",
    "# Demonstrating the title() method:\n",
    "print(\"I know that I know nothing. Part 1.\".title())\n",
    "\n",
    "print()\n",
    "\n",
    "# Demonstrating the upper() method:\n",
    "print(\"I know that I know nothing. Part 2.\".upper())"
   ]
  },
  {
   "source": [
    "# 2.3.1.17 Section Summary\n",
    "\n",
    "## 1. Some of the methods offered by strings are:\n",
    "### \n",
    "### capitalize() – changes all string letters to capitals;\n",
    "### center() – centers the string inside the field of a known length;\n",
    "### count() – counts the occurrences of a given character;\n",
    "### join() – joins all items of a tuple/list into one string;\n",
    "### lower() – converts all the string's letters into lower-case letters;\n",
    "### lstrip() – removes the white characters from the beginning of the string;\n",
    "### replace() – replaces a given substring with another;\n",
    "### rfind() – finds a substring starting from the end of the string;\n",
    "### rstrip() – removes the trailing white spaces from the end of the string;\n",
    "### split() – splits the string into a substring using a given delimiter;\n",
    "### strip() – removes the leading and trailing white spaces;\n",
    "### swapcase() – swaps the letters' cases (lower to upper and vice versa)\n",
    "### title() – makes the first letter in each word upper-case;\n",
    "### upper() – converts all the string's letter into upper-case letters.\n",
    "### \n",
    "## 2. String content can be determined using the following methods (all of them return Boolean values):\n",
    "### \n",
    "### endswith() – does the string end with a given substring?\n",
    "### isalnum() – does the string consist only of letters and digits?\n",
    "### isalpha() – does the string consist only of letters?\n",
    "### islower() – does the string consists only of lower-case letters?\n",
    "### isspace() – does the string consists only of white spaces?\n",
    "### isupper() – does the string consists only of upper-case letters?\n",
    "### startswith() – does the string begin with a given substring?"
   ],
   "cell_type": "markdown",
   "metadata": {}
  },
  {
   "cell_type": "code",
   "execution_count": 77,
   "metadata": {},
   "outputs": [
    {
     "output_type": "stream",
     "name": "stdout",
     "text": [
      "X:\n [[0.39955337 0.95659243 0.83734329 0.51140076 0.39779722 0.17224632\n  0.40635161 0.61480283 0.97088404 0.75233416 0.06756178 0.93087799\n  0.74834039]\n [0.84211734 0.88204704 0.82685152 0.64475475 0.5682946  0.34816107\n  0.34912188 0.54071299 0.61119719 0.91994741 0.71609258 0.66901013\n  0.64166406]]\n**************************************************\nY: \n [[0 1 0 0 0 1 0 1 0 0 0 0 1]]\n**************************************************\nm: \n 13\n**************************************************\npermutation: \n [8, 7, 5, 6, 9, 12, 1, 10, 3, 11, 2, 4, 0]\n**************************************************\nshuffled_X: \n [[0.97088404 0.61480283 0.17224632 0.40635161 0.75233416 0.74834039\n  0.95659243 0.06756178 0.51140076 0.93087799 0.83734329 0.39779722\n  0.39955337]\n [0.61119719 0.54071299 0.34816107 0.34912188 0.91994741 0.64166406\n  0.88204704 0.71609258 0.64475475 0.66901013 0.82685152 0.5682946\n  0.84211734]]\n**************************************************\nshuffled_Y: \n [[0 1 1 0 0 1 1 0 0 0 0 0 0]]\n**************************************************\nmini_batch_size: \n 2\nnum_complete_minibatches: \n 6\n**************************************************\nmini_batch_X: \n [[0.83734329 0.39779722]\n [0.82685152 0.5682946 ]]\nmini_batch_y: \n [[0 0]]\n**************************************************\nmini_batch: \n (array([[0.83734329, 0.39779722],\n       [0.82685152, 0.5682946 ]]), array([[0, 0]]))\nmini_batches: \n [(array([[0.97088404, 0.61480283],\n       [0.61119719, 0.54071299]]), array([[0, 1]])), (array([[0.17224632, 0.40635161],\n       [0.34816107, 0.34912188]]), array([[1, 0]])), (array([[0.75233416, 0.74834039],\n       [0.91994741, 0.64166406]]), array([[0, 1]])), (array([[0.95659243, 0.06756178],\n       [0.88204704, 0.71609258]]), array([[1, 0]])), (array([[0.51140076, 0.93087799],\n       [0.64475475, 0.66901013]]), array([[0, 0]])), (array([[0.83734329, 0.39779722],\n       [0.82685152, 0.5682946 ]]), array([[0, 0]]))]\n**************************************************\nmini_batch: \n (array([[0.39955337],\n       [0.84211734]]), array([[0]]))\nmini_batches: \n [(array([[0.97088404, 0.61480283],\n       [0.61119719, 0.54071299]]), array([[0, 1]])), (array([[0.17224632, 0.40635161],\n       [0.34816107, 0.34912188]]), array([[1, 0]])), (array([[0.75233416, 0.74834039],\n       [0.91994741, 0.64166406]]), array([[0, 1]])), (array([[0.95659243, 0.06756178],\n       [0.88204704, 0.71609258]]), array([[1, 0]])), (array([[0.51140076, 0.93087799],\n       [0.64475475, 0.66901013]]), array([[0, 0]])), (array([[0.83734329, 0.39779722],\n       [0.82685152, 0.5682946 ]]), array([[0, 0]])), (array([[0.39955337],\n       [0.84211734]]), array([[0]]))]\n**************************************************\n"
     ]
    }
   ],
   "source": [
    "import numpy as np\n",
    "import math\n",
    "\n",
    "features=2\n",
    "examples=13\n",
    "mini_batch_size=2\n",
    "mini_batches=[]\n",
    "\n",
    "X=np.random.rand(features,examples)\n",
    "print('X:\\n',X)\n",
    "print('*'*50)\n",
    "\n",
    "Y=np.random.randint(2,size=examples).reshape(1,examples)\n",
    "print('Y: \\n',Y)\n",
    "print('*'*50)\n",
    "\n",
    "m=X.shape[1]\n",
    "print('m: \\n',m)\n",
    "print('*'*50)\n",
    "\n",
    "permutation = list(np.random.permutation(m))\n",
    "print('permutation: \\n',permutation)\n",
    "print('*'*50)\n",
    "\n",
    "shuffled_X = X[:, permutation]\n",
    "print('shuffled_X: \\n',shuffled_X)\n",
    "print('*'*50)\n",
    "\n",
    "shuffled_Y = Y[:, permutation].reshape((1,m))\n",
    "print('shuffled_Y: \\n',shuffled_Y)\n",
    "print('*'*50)\n",
    "\n",
    "num_complete_minibatches = math.floor(examples/mini_batch_size)\n",
    "print('mini_batch_size: \\n', mini_batch_size)\n",
    "print('num_complete_minibatches: \\n', num_complete_minibatches)\n",
    "print('*'*50)\n",
    "\n",
    "for k in range(0, num_complete_minibatches):\n",
    "    mini_batch_X = shuffled_X[:,k*mini_batch_size:(k+1)*mini_batch_size]\n",
    "    mini_batch_Y = shuffled_Y[:,k*mini_batch_size:(k+1)*mini_batch_size]\n",
    "    mini_batch = (mini_batch_X, mini_batch_Y)\n",
    "    mini_batches.append(mini_batch)\n",
    "print('mini_batch_X: \\n', mini_batch_X)\n",
    "print('mini_batch_y: \\n', mini_batch_Y)\n",
    "print('*'*50)\n",
    "\n",
    "\n",
    "print('mini_batch: \\n', mini_batch)\n",
    "print('mini_batches: \\n', mini_batches)\n",
    "print('*'*50)\n",
    "\n",
    "if m % mini_batch_size != 0:\n",
    "    mini_batch_X = shuffled_X[:,num_complete_minibatches*mini_batch_size:]\n",
    "    mini_batch_Y = shuffled_Y[:,num_complete_minibatches*mini_batch_size:]\n",
    "    mini_batch = (mini_batch_X, mini_batch_Y)\n",
    "    mini_batches.append(mini_batch)\n",
    "\n",
    "print('mini_batch: \\n', mini_batch)\n",
    "print('mini_batches: \\n', mini_batches)\n",
    "print('*'*50)\n",
    "\n",
    "\n"
   ]
  }
 ]
}