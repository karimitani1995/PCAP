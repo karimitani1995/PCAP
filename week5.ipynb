{
 "metadata": {
  "language_info": {
   "codemirror_mode": {
    "name": "ipython",
    "version": 3
   },
   "file_extension": ".py",
   "mimetype": "text/x-python",
   "name": "python",
   "nbconvert_exporter": "python",
   "pygments_lexer": "ipython3",
   "version": "3.6.4-final"
  },
  "orig_nbformat": 2,
  "kernelspec": {
   "name": "python364jvsc74a57bd0f83246199d1410454803b880168c8efe25a155f577f625273cc01159e13d37cc",
   "display_name": "Python 3.6.4 64-bit ('fxcm': conda)"
  }
 },
 "nbformat": 4,
 "nbformat_minor": 2,
 "cells": [
  {
   "source": [
    "# 3.1.1.2\n",
    "### Every class is like a recipe which can be used when you want to create a useful object (this is where the name of the approach comes from). You may produce as many objects as you need to solve your problem.\n",
    "\n",
    "### Every object has a set of traits (they are called properties or attributes - we'll use both words synonymously) and is able to perform a set of activities (which are called methods).\n",
    "\n",
    "### Objects are incarnations of ideas expressed in classes. They are like treadmill instances."
   ],
   "cell_type": "markdown",
   "metadata": {}
  },
  {
   "source": [
    "# 3.1.1.3\n",
    "\n",
    "### Classes are structured in a tree root strucutre. The top being the most general, possessing shared traits. Subclasses possess all superclasses' traits plus some more specific implementation."
   ],
   "cell_type": "markdown",
   "metadata": {}
  },
  {
   "source": [
    "# 3.1.1.5 \n",
    "\n",
    "## What is an object?\n",
    "### An object is an incarnation of the requirements, traits, and qualities assigned to a specific class.\n",
    "\n",
    "## Inheritance\n",
    "### An object created from a given class level inherits (possesses) all the traits of its class and that classe's parent classes "
   ],
   "cell_type": "markdown",
   "metadata": {}
  },
  {
   "source": [
    "# 3.1.1.6\n",
    "\n",
    "## Object components: \n",
    "### Name: optional as classes can instantiate anonymous objects.\n",
    "### Properties: set of attributes either unique to object (such as unique identifiers/counters, called instance attributes) or shared with the parent class(called class attributes)\n",
    "### Methods: functions defined in the parent class that can be used by the object"
   ],
   "cell_type": "markdown",
   "metadata": {}
  },
  {
   "source": [
    "# 3.1.1.7\n",
    "\n",
    "## Defining a class\n",
    "### Similar to defining functions but using the \"class\" keyword instead of \"def\"\n",
    "### Best practice to naming classes is to follow PEP 8, in the class naming section (https://www.python.org/dev/peps/pep-0008/#class-names)\n",
    "### \"Class names should normally use the CapWords convention.\" -PEP8\n",
    "\n",
    "<br>\n",
    "\n",
    "## Instantiating a class\n",
    "### Similar to calling a function\n",
    "### Naming convention same as for function. PEP8 (https://www.python.org/dev/peps/pep-0008/#method-names-and-instance-variables)\n",
    "### \"Use the function naming rules: lowercase with words separated by underscores as necessary to improve readability\" -PEP8"
   ],
   "cell_type": "markdown",
   "metadata": {}
  },
  {
   "cell_type": "code",
   "execution_count": 9,
   "metadata": {},
   "outputs": [
    {
     "output_type": "stream",
     "name": "stdout",
     "text": [
      "<class 'type'>\n<class '__main__.ThisIsAClass'>\n"
     ]
    }
   ],
   "source": [
    "# Example - Defining class\n",
    "class ThisIsAClass:\n",
    "    pass\n",
    "\n",
    "# Example - Insatantiating a class\n",
    "first_class = ThisIsAClass()\n",
    "\n",
    "#Sanity Check\n",
    "print(type(ThisIsAClass))\n",
    "print(type(first_class))\n"
   ]
  },
  {
   "source": [
    "# 3.2 From procedural to object oriented, the stack example\n",
    "\n",
    "<br>\n",
    "\n",
    "## The procedural approach: you define functions and call them\n",
    "### Shortcomming: Imagine the stack gets deleted/modified incorrectly or you need more than one stack"
   ],
   "cell_type": "markdown",
   "metadata": {}
  },
  {
   "cell_type": "code",
   "execution_count": 11,
   "metadata": {},
   "outputs": [
    {
     "output_type": "stream",
     "name": "stdout",
     "text": [
      "1\n2\n3\n"
     ]
    }
   ],
   "source": [
    "stack = []\n",
    "\n",
    "\n",
    "def push(val):\n",
    "    stack.append(val)\n",
    "\n",
    "\n",
    "def pop():\n",
    "    val = stack[-1]\n",
    "    del stack[-1]\n",
    "    return val\n",
    "\n",
    "\n",
    "push(3)\n",
    "push(2)\n",
    "push(1)\n",
    "\n",
    "print(pop())\n",
    "print(pop())\n",
    "print(pop())\n"
   ]
  },
  {
   "source": [
    "# Filling the gap with OOP:\n",
    "* Encapsulation: protect attributes from being accessed/modified\n",
    "* Reproduce many instances of the same behavior without re-implementing the same code\n",
    "* Extending the \"traits\" of the object (in this example the stack) by implenting sub-classes and using inheritance"
   ],
   "cell_type": "markdown",
   "metadata": {}
  },
  {
   "source": [
    "# The OOP approach:\n",
    "* A constructor is a function within the class that takes care of instantiation of class objects (instances)\n",
    "    * It has a strict syntax \n",
    "        * Name should always be \"\\__init__\"\n",
    "        * Requires at least one parameter \"self\" which points to the new instance\n",
    "        * \"self\" is a convention, any other word can be used but that is not recommended\n",
    "    * Only gets called when new instances are created\n",
    "    * It can \"house\" attributes (variables such as list, strings, etc)\n",
    "        * Need to be preceded my \"self.\" so that python knows that they belong to the specific instance\n",
    "* Encapsulation works by preceding an atribute by a \"dunder\" which is a double underscore\n",
    "    * Trying to access such attributes will cause an AttributeError"
   ],
   "cell_type": "markdown",
   "metadata": {}
  },
  {
   "cell_type": "code",
   "execution_count": 34,
   "metadata": {},
   "outputs": [
    {
     "output_type": "stream",
     "name": "stdout",
     "text": [
      "New instance, created\n3.141592653589793\n0\n"
     ]
    },
    {
     "output_type": "error",
     "ename": "AttributeError",
     "evalue": "'Stack' object has no attribute '__private'",
     "traceback": [
      "\u001b[0;31m---------------------------------------------------------------------------\u001b[0m",
      "\u001b[0;31mAttributeError\u001b[0m                            Traceback (most recent call last)",
      "\u001b[0;32m<ipython-input-34-f832278d932a>\u001b[0m in \u001b[0;36m<module>\u001b[0;34m()\u001b[0m\n\u001b[1;32m     17\u001b[0m \u001b[0mprint\u001b[0m\u001b[0;34m(\u001b[0m\u001b[0mnew_stack\u001b[0m\u001b[0;34m.\u001b[0m\u001b[0mpi\u001b[0m\u001b[0;34m)\u001b[0m\u001b[0;34m\u001b[0m\u001b[0m\n\u001b[1;32m     18\u001b[0m \u001b[0mprint\u001b[0m\u001b[0;34m(\u001b[0m\u001b[0mlen\u001b[0m\u001b[0;34m(\u001b[0m\u001b[0mnew_stack\u001b[0m\u001b[0;34m.\u001b[0m\u001b[0mstack_list\u001b[0m\u001b[0;34m)\u001b[0m\u001b[0;34m)\u001b[0m\u001b[0;34m\u001b[0m\u001b[0m\n\u001b[0;32m---> 19\u001b[0;31m \u001b[0mprint\u001b[0m\u001b[0;34m(\u001b[0m\u001b[0mnew_stack\u001b[0m\u001b[0;34m.\u001b[0m\u001b[0m__private\u001b[0m\u001b[0;34m)\u001b[0m\u001b[0;34m\u001b[0m\u001b[0m\n\u001b[0m",
      "\u001b[0;31mAttributeError\u001b[0m: 'Stack' object has no attribute '__private'"
     ]
    }
   ],
   "source": [
    "class Stack:\n",
    "    def __init__(self):\n",
    "        # Contains function (either in-built/inherited as methods/loaded as packages)\n",
    "        print(\"New instance, created\")\n",
    "        import math\n",
    "        \n",
    "        # Contains attributes\n",
    "        self.pi = math.pi\n",
    "        self.stack_list = []\n",
    "\n",
    "        # Contains private attributes\n",
    "        self.__private=\"None of you business\"\n",
    "   \n",
    "\n",
    "\n",
    "new_stack= Stack()\n",
    "print(new_stack.pi)\n",
    "print(len(new_stack.stack_list))\n",
    "print(new_stack.__private)\n"
   ]
  },
  {
   "source": [
    "## Defining Class methods:\n",
    "* Defined just like fucntions because well, they are fucntions\n",
    "* Naming convention:\n",
    "    * No preceding preceding \"dunder\" and no trailing single underscpre\n"
   ],
   "cell_type": "markdown",
   "metadata": {}
  },
  {
   "cell_type": "code",
   "execution_count": 35,
   "metadata": {},
   "outputs": [
    {
     "output_type": "stream",
     "name": "stdout",
     "text": [
      "1\n2\n3\n"
     ]
    }
   ],
   "source": [
    "class Stack:\n",
    "    def __init__(self):\n",
    "        self.__stack_list = []\n",
    "\n",
    "\n",
    "    def push(self, val):\n",
    "        self.__stack_list.append(val)\n",
    "\n",
    "\n",
    "    def pop(self):\n",
    "        val = self.__stack_list[-1]\n",
    "        del self.__stack_list[-1]\n",
    "        return val\n",
    "\n",
    "\n",
    "stack_object = Stack()\n",
    "\n",
    "stack_object.push(3)\n",
    "stack_object.push(2)\n",
    "stack_object.push(1)\n",
    "\n",
    "print(stack_object.pop())\n",
    "print(stack_object.pop())\n",
    "print(stack_object.pop())"
   ]
  },
  {
   "source": [
    "## Instantiating multiple instances of the same classe\n",
    "* Notice how the second instance is using the return value of 'stack_object_1.pop()' as a parameter"
   ],
   "cell_type": "markdown",
   "metadata": {}
  },
  {
   "cell_type": "code",
   "execution_count": 36,
   "metadata": {},
   "outputs": [
    {
     "output_type": "stream",
     "name": "stdout",
     "text": [
      "3\n"
     ]
    }
   ],
   "source": [
    "\n",
    "stack_object_1 = Stack()\n",
    "stack_object_2 = Stack()\n",
    "\n",
    "stack_object_1.push(3)\n",
    "stack_object_2.push(stack_object_1.pop())\n",
    "print(stack_object_2.pop())"
   ]
  },
  {
   "source": [
    "## Defining sub-classes\n",
    "* We want a stack that can evaluate the sum of all the elements currently in the stack\n",
    "* The subclass will inherite the methods and attributes of its superclass. This is done by defining the new class in the following manner\n",
    "    * The subclass definition will have the superclass name as a parameter\n",
    "    * The subclass constructor will call for the execution of the superclass constructor\n",
    "        * class SubClass(SuperClass):\n",
    "        <ol> def __init__(self):\n",
    "        <ol> SuperClass.__init()\n",
    "        "
   ],
   "cell_type": "markdown",
   "metadata": {}
  },
  {
   "cell_type": "code",
   "execution_count": null,
   "metadata": {},
   "outputs": [],
   "source": [
    "class AddingStack(Stack):\n",
    "    def __init__(self):\n",
    "        Stack.__init__(self)\n",
    "        self.__sum = 0"
   ]
  },
  {
   "source": [
    "## Redefinig methods: Changing the way a method works without changing its name\n",
    "* In the below example the push metho gets redenfined\n",
    "    * It invokes the self.__sum from its own constructor\n",
    "    * It invokes the Stack.push from the Stack superclass"
   ],
   "cell_type": "markdown",
   "metadata": {}
  },
  {
   "cell_type": "code",
   "execution_count": 38,
   "metadata": {},
   "outputs": [],
   "source": [
    "class AddingStack(Stack):\n",
    "    def __init__(self):\n",
    "        Stack.__init__(self)\n",
    "        self.__sum = 0\n",
    "\n",
    "\n",
    "    def push(self, val):\n",
    "        self.__sum += val\n",
    "        Stack.push(self, val)\n"
   ]
  },
  {
   "source": [
    "## Accessing a private object\n",
    "* In the below example we defnine a method get_sum' to retrieve the '__sum' attribute \n",
    "* In subsequent reading we will discuss setters and getters"
   ],
   "cell_type": "markdown",
   "metadata": {}
  },
  {
   "cell_type": "code",
   "execution_count": 40,
   "metadata": {},
   "outputs": [
    {
     "output_type": "stream",
     "name": "stdout",
     "text": [
      "10\n4\n3\n2\n1\n0\n"
     ]
    }
   ],
   "source": [
    "class Stack:\n",
    "    def __init__(self):\n",
    "        self.__stack_list = []\n",
    "\n",
    "    def push(self, val):\n",
    "        self.__stack_list.append(val)\n",
    "\n",
    "    def pop(self):\n",
    "        val = self.__stack_list[-1]\n",
    "        del self.__stack_list[-1]\n",
    "        return val\n",
    "\n",
    "\n",
    "class AddingStack(Stack):\n",
    "    def __init__(self):\n",
    "        Stack.__init__(self)\n",
    "        self.__sum = 0\n",
    "\n",
    "    def get_sum(self):\n",
    "        return self.__sum\n",
    "\n",
    "    def push(self, val):\n",
    "        self.__sum += val\n",
    "        Stack.push(self, val)\n",
    "\n",
    "    def pop(self):\n",
    "        val = Stack.pop(self)\n",
    "        self.__sum -= val\n",
    "        return val\n",
    "\n",
    "\n",
    "stack_object = AddingStack()\n",
    "\n",
    "for i in range(5):\n",
    "    stack_object.push(i)\n",
    "print(stack_object.get_sum())\n",
    "\n",
    "for i in range(5):\n",
    "    print(stack_object.pop())"
   ]
  },
  {
   "source": [
    "# 3.3 Properties\n",
    "## 3.3.1.1 Instance Properties\n",
    "* Different objects of the same class may possess different sets of properties\n",
    "* There is a way of checking if a specific object own a property\n",
    "* Each object own its own set of properties that don't interfere in one anothe\n",
    "* The \\__dict__ method returns a dictionnary of all objects' properties"
   ],
   "cell_type": "markdown",
   "metadata": {}
  },
  {
   "cell_type": "code",
   "execution_count": 41,
   "metadata": {},
   "outputs": [
    {
     "output_type": "stream",
     "name": "stdout",
     "text": [
      "{'first': 1}\n{'first': 2, 'second': 3}\n{'first': 4, 'third': 5}\n"
     ]
    }
   ],
   "source": [
    "class ExampleClass:\n",
    "    def __init__(self, val = 1):\n",
    "        self.first = val\n",
    "\n",
    "    def set_second(self, val):\n",
    "        self.second = val\n",
    "\n",
    "\n",
    "example_object_1 = ExampleClass()\n",
    "example_object_2 = ExampleClass(2)\n",
    "\n",
    "example_object_2.set_second(3)\n",
    "\n",
    "example_object_3 = ExampleClass(4)\n",
    "example_object_3.third = 5\n",
    "\n",
    "print(example_object_1.__dict__)\n",
    "print(example_object_2.__dict__)\n",
    "print(example_object_3.__dict__)"
   ]
  },
  {
   "source": [
    "# 3.3.1.2 Private properties and \"mangling\"\n",
    "* When a property gets tagged as private (two leading underscores) it gets referenced differently in the \\__dict__ of the object.\n",
    "* In order to invoke this property with no issues it need to be called using a single underscore followed by the classname followed by the property"
   ],
   "cell_type": "markdown",
   "metadata": {}
  },
  {
   "cell_type": "code",
   "execution_count": 44,
   "metadata": {},
   "outputs": [
    {
     "output_type": "stream",
     "name": "stdout",
     "text": [
      "{'_ExampleClass__first': 1}\n{'_ExampleClass__first': 2, '_ExampleClass__second': 3}\n{'_ExampleClass__first': 4, '__third': 5}\n1\n"
     ]
    }
   ],
   "source": [
    "class ExampleClass:\n",
    "    def __init__(self, val = 1):\n",
    "        self.__first = val\n",
    "\n",
    "    def set_second(self, val = 2):\n",
    "        self.__second = val\n",
    "\n",
    "\n",
    "example_object_1 = ExampleClass()\n",
    "example_object_2 = ExampleClass(2)\n",
    "\n",
    "example_object_2.set_second(3)\n",
    "\n",
    "example_object_3 = ExampleClass(4)\n",
    "example_object_3.__third = 5\n",
    "\n",
    "\n",
    "print(example_object_1.__dict__)\n",
    "print(example_object_2.__dict__)\n",
    "print(example_object_3.__dict__)\n",
    "\n",
    "print(example_object_1._ExampleClass__first)"
   ]
  },
  {
   "source": [
    "# 3.3.1.3 Class properties\n",
    "* Exists in just one copy and is stored outside any object.\n",
    "* They can be accessed through any of the objects just like any object attribute. or through the class. \n",
    "* The don't appeat in an object's \\__dict__\n",
    "* The property value is the same for all objects of the class"
   ],
   "cell_type": "markdown",
   "metadata": {}
  },
  {
   "cell_type": "code",
   "execution_count": 48,
   "metadata": {},
   "outputs": [
    {
     "output_type": "stream",
     "name": "stdout",
     "text": [
      "Access from objects\n{'_ExampleClass__first': 1} 3\n{'_ExampleClass__first': 2} 3\n{'_ExampleClass__first': 4} 3\n\nAccess from class \n3\n"
     ]
    }
   ],
   "source": [
    "class ExampleClass:\n",
    "    counter = 0\n",
    "    def __init__(self, val = 1):\n",
    "        self.__first = val\n",
    "        ExampleClass.counter += 1\n",
    "\n",
    "\n",
    "example_object_1 = ExampleClass()\n",
    "example_object_2 = ExampleClass(2)\n",
    "example_object_3 = ExampleClass(4)\n",
    "\n",
    "print('Access from objects')\n",
    "print(example_object_1.__dict__, example_object_1.counter)\n",
    "print(example_object_2.__dict__, example_object_2.counter)\n",
    "print(example_object_3.__dict__, example_object_3.counter)\n",
    "\n",
    "print('\\nAccess from class ')\n",
    "print(ExampleClass.counter)"
   ]
  },
  {
   "source": [
    "# 3.3.1.4 Private class properties and 'mangling'\n",
    "* Same behavior as with instance properties"
   ],
   "cell_type": "markdown",
   "metadata": {}
  },
  {
   "cell_type": "code",
   "execution_count": 50,
   "metadata": {},
   "outputs": [
    {
     "output_type": "stream",
     "name": "stdout",
     "text": [
      "{'_ExampleClass__first': 1} 3\n{'_ExampleClass__first': 2} 3\n{'_ExampleClass__first': 4} 3\n"
     ]
    }
   ],
   "source": [
    "class ExampleClass:\n",
    "    __counter = 0\n",
    "    def __init__(self, val = 1):\n",
    "        self.__first = val\n",
    "        ExampleClass.__counter += 1\n",
    "\n",
    "\n",
    "example_object_1 = ExampleClass()\n",
    "example_object_2 = ExampleClass(2)\n",
    "example_object_3 = ExampleClass(4)\n",
    "\n",
    "print(example_object_1.__dict__, example_object_1._ExampleClass__counter)\n",
    "print(example_object_2.__dict__, example_object_2._ExampleClass__counter)\n",
    "print(example_object_3.__dict__, example_object_3._ExampleClass__counter)\n"
   ]
  },
  {
   "source": [
    "# 3.3.1.7 Checking the existence of an attribute\n",
    "* The hasattr() function can be used to verify that. It is called using two parameters: The object name and a string containing the attribute name.\n",
    "* Returns a True/False\n",
    "* This replaces the need for try except blocks\n",
    "* hasattr() also works on classes"
   ],
   "cell_type": "markdown",
   "metadata": {}
  },
  {
   "cell_type": "code",
   "execution_count": 54,
   "metadata": {},
   "outputs": [
    {
     "output_type": "stream",
     "name": "stdout",
     "text": [
      "1\nTrue\n"
     ]
    }
   ],
   "source": [
    "class ExampleClass:\n",
    "    attr=1\n",
    "    def __init__(self, val):\n",
    "        if val % 2 != 0:\n",
    "            self.a = 1\n",
    "        else:\n",
    "            self.b = 1\n",
    "\n",
    "\n",
    "example_object = ExampleClass(1)\n",
    "print(example_object.a)\n",
    "\n",
    "if hasattr(example_object, 'b'):\n",
    "    print(example_object.b)\n",
    "\n",
    "print(hasattr(ExampleClass,'attr'))"
   ]
  }
 ]
}