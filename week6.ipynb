{
 "metadata": {
  "language_info": {
   "codemirror_mode": {
    "name": "ipython",
    "version": 3
   },
   "file_extension": ".py",
   "mimetype": "text/x-python",
   "name": "python",
   "nbconvert_exporter": "python",
   "pygments_lexer": "ipython3",
   "version": "3.8.5-final"
  },
  "orig_nbformat": 2,
  "kernelspec": {
   "name": "python385jvsc74a57bd0dca0ade3e726a953b501b15e8e990130d2b7799f14cfd9f4271676035ebe5511",
   "display_name": "Python 3.8.5 64-bit ('base': conda)"
  }
 },
 "nbformat": 4,
 "nbformat_minor": 2,
 "cells": [
  {
   "source": [
    "# 3.4.1.1 Methods\n",
    "\n",
    "### 1- Methods are functions embedded inside classes\n",
    "### 2- The require at least one parameter, self. This allow the method to refer to the instance of the class that it belongs to\n",
    "### 3- Methods are defined in the following manner:"
   ],
   "cell_type": "markdown",
   "metadata": {}
  },
  {
   "cell_type": "code",
   "execution_count": 4,
   "metadata": {},
   "outputs": [
    {
     "output_type": "stream",
     "name": "stdout",
     "text": [
      "printing this string\n"
     ]
    }
   ],
   "source": [
    "class ClassDefinition:\n",
    "    def method(self,par):\n",
    "        print(par)\n",
    "\n",
    "instance = ClassDefinition()\n",
    "instance.method(\"printing this string\")"
   ]
  },
  {
   "source": [
    "# 3.4.1.2 Methods in details\n",
    "\n",
    "### 1- the self parameter allows the methods to invoke class variables (i.e: the class attribute \"var\") or other methods inside the class (i.e: the method \"other\")"
   ],
   "cell_type": "markdown",
   "metadata": {}
  },
  {
   "cell_type": "code",
   "execution_count": 9,
   "metadata": {},
   "outputs": [
    {
     "output_type": "stream",
     "name": "stdout",
     "text": [
      "3\nother\n"
     ]
    }
   ],
   "source": [
    "class ClassDefinition:\n",
    "    var=3\n",
    "    def method(self):\n",
    "        print(self.var)\n",
    "        self.other()\n",
    "\n",
    "    def other(self):\n",
    "        print('other')\n",
    "\n",
    "instance = ClassDefinition()\n",
    "instance.method()\n"
   ]
  },
  {
   "source": [
    "# 3.4.1.3 Constructors\n",
    "\n",
    "### 1- A special kind of method can be defined for a class: __ini__\n",
    "### 2- It must have the \"self\" parameter, it can accept additional parameters if needed\n",
    "### 3- It is used to manage the initialisation of classe instances\n",
    "### 4- It cannot return a value, it automatically returns a new class instance\n",
    "### 5- Cannot be invoked directly by the object or from inside the class. It can be invoked from the constructors of subclasses (details in following sections)"
   ],
   "cell_type": "markdown",
   "metadata": {}
  },
  {
   "cell_type": "code",
   "execution_count": 13,
   "metadata": {},
   "outputs": [
    {
     "output_type": "stream",
     "name": "stdout",
     "text": [
      "The instance was initialised with this following attribute: value = 3\n"
     ]
    }
   ],
   "source": [
    "class ClassDefinition:\n",
    "    def __init__(self,var):\n",
    "        self.value = var\n",
    "\n",
    "instance = ClassDefinition(3)\n",
    "\n",
    "print(f'The instance was initialised with this following attribute: value = {instance.value}')"
   ]
  },
  {
   "source": [
    "# 3.4.1.4 Constructors: Details\n",
    "\n",
    "### 1- Constructors can set default values to their parameters"
   ],
   "cell_type": "markdown",
   "metadata": {}
  },
  {
   "cell_type": "code",
   "execution_count": 17,
   "metadata": {},
   "outputs": [
    {
     "output_type": "stream",
     "name": "stdout",
     "text": [
      "Value is: None\nValue is: 3\n"
     ]
    }
   ],
   "source": [
    "class ClassDefinition:\n",
    "    def __init__(self,var=None):\n",
    "        self.value = var\n",
    "        print(f'Value is: {self.value}')\n",
    "\n",
    "instance_default = ClassDefinition()\n",
    "instance_defined = ClassDefinition(3)"
   ]
  },
  {
   "source": [
    "### 2- Just like property name mangling all methods perceded by dunders \"__\" is (partially) hidden. It should be invoked in the following manner: instanceName._ClassName\\__method()"
   ],
   "cell_type": "markdown",
   "metadata": {}
  },
  {
   "cell_type": "code",
   "execution_count": 19,
   "metadata": {},
   "outputs": [
    {
     "output_type": "stream",
     "name": "stdout",
     "text": [
      "Visible\nCouldn't find it way, try again\nHidden\n"
     ]
    }
   ],
   "source": [
    "class ClassDefinition:\n",
    "    def visible(self):\n",
    "        print(\"Visible\")\n",
    "\n",
    "    def __hidden(self):\n",
    "        print(\"Hidden\")\n",
    "\n",
    "instance = ClassDefinition()\n",
    "\n",
    "instance.visible()\n",
    "\n",
    "try:\n",
    "    instance.__hidden()\n",
    "except:\n",
    "    print(\"Couldn't find it way, try again\")\n",
    "\n",
    "instance._ClassDefinition__hidden()"
   ]
  },
  {
   "source": [
    "# 3.4.1.5 Class and object attributes\n",
    "\n",
    "### 1- Each class/object comes with a built-in attribute \"__dict__\" that return a dictionnary with all its attributes/methods"
   ],
   "cell_type": "markdown",
   "metadata": {}
  },
  {
   "cell_type": "code",
   "execution_count": 21,
   "metadata": {},
   "outputs": [
    {
     "output_type": "stream",
     "name": "stdout",
     "text": [
      "{'value': 2}\n{'__module__': '__main__', 'varia': 3, '__init__': <function ClassDefinition.__init__ at 0x1068209d0>, 'method': <function ClassDefinition.method at 0x1042a35e0>, '_ClassDefinition__hidden': <function ClassDefinition.__hidden at 0x1042a3820>, '__dict__': <attribute '__dict__' of 'ClassDefinition' objects>, '__weakref__': <attribute '__weakref__' of 'ClassDefinition' objects>, '__doc__': None}\n"
     ]
    }
   ],
   "source": [
    "class ClassDefinition:\n",
    "    varia = 3\n",
    "    \n",
    "    def __init__(self):\n",
    "        self.value = 2\n",
    "    \n",
    "    def method(self):\n",
    "        pass\n",
    "\n",
    "    def __hidden(self):\n",
    "        pass\n",
    "\n",
    "instance = ClassDefinition()\n",
    "print(instance.__dict__)\n",
    "print(ClassDefinition.__dict__)"
   ]
  },
  {
   "source": [
    "### 2- The __name__ attribute return the name of the class, it doesn't exist for instances"
   ],
   "cell_type": "markdown",
   "metadata": {}
  },
  {
   "cell_type": "code",
   "execution_count": 24,
   "metadata": {},
   "outputs": [
    {
     "output_type": "stream",
     "name": "stdout",
     "text": [
      "ClassDefinition\n<class '__main__.ClassDefinition'>\nClassDefinition\n"
     ]
    }
   ],
   "source": [
    "print(ClassDefinition.__name__)\n",
    "print(type(instance))\n",
    "print(type(instance).__name__)\n",
    "print(\n",
    "    instance.__name__)"
   ]
  }
 ]
}